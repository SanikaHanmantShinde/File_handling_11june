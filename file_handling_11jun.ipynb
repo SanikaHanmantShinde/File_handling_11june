{
 "cells": [
  {
   "cell_type": "markdown",
   "id": "77504f0b-b772-4197-8773-db14bd33e271",
   "metadata": {},
   "source": [
    "# File handling in Python\n",
    "## file=\n",
    "#### 1.file is named location on disk to store related information.\n",
    "#### 2. it is used to store data in a non-volatile memory(e.g. hard disk) \n",
    "#### 3. we use file for future use of data(not like RAM)\n",
    "#### order=\n",
    "##### (1)open a file\n",
    "##### (2)read/write(perform operation)\n",
    "##### (3)close the file(so that resourses that are tied with the file are freed)"
   ]
  },
  {
   "cell_type": "markdown",
   "id": "2ea4240b-a8f1-4009-8217-66d94cf248ac",
   "metadata": {},
   "source": [
    "## opening a file\n",
    "#### 1.python has built-in function open() to open a file.\n",
    "#### 2.the function also return file object,also called as 'handle' as it is used to read or modify the file accordingly.\n",
    "#### 3.we can specify the mode while opening the file.\n",
    "## python file modes\n",
    "### 'r'=Open a file for reading(default)\n",
    "### 'w'=Open a file for writing(create a file if it does not exist)(truncates the file if it exist)\n",
    "### 'x'=Open the file for exclusive creation.(if the filr already exist,the operation fails)\n",
    "### 'a'=Open for appending at the end of the file without truncating it.(create a new file if it does not exist)\n",
    "### 't'=Open in text mode(default)\n",
    "### 'b'=Open in binary mode.\n",
    "### '+'=Open the file for updating\n",
    "#### Example="
   ]
  },
  {
   "cell_type": "code",
   "execution_count": 25,
   "id": "3a646ed6-90e2-4f94-8e51-1222eb2c1c3f",
   "metadata": {},
   "outputs": [],
   "source": [
    "f=open('sanika.txt','r')\n",
    "\n"
   ]
  },
  {
   "cell_type": "markdown",
   "id": "140999ee-26bc-4030-bce7-1febd39b949e",
   "metadata": {},
   "source": [
    "## Reading functions\n",
    "### 1.read(n)=\n",
    "#### -read at most n characters from the file.\n",
    "#### -reads till end of file if it is negative or none.\n",
    "### 2.readable()\n",
    "#### -returns true if the file stream can be read from.\n",
    "### 3.readline()\n",
    "#### -read and return one line from the file\n",
    "### 4.readlines()\n",
    "#### -read and returns a list of lines from the file."
   ]
  },
  {
   "cell_type": "code",
   "execution_count": 16,
   "id": "9e6a402c-31f2-475b-a68c-62d7f564b9c6",
   "metadata": {},
   "outputs": [
    {
     "data": {
      "text/plain": [
       "'My name is sanika.\\nMy father name is hanmant.\\nMy hobbies are reading,swimming,dancing,singing.\\nI like travaling.\\nthank you.'"
      ]
     },
     "execution_count": 16,
     "metadata": {},
     "output_type": "execute_result"
    }
   ],
   "source": [
    "f.read()"
   ]
  },
  {
   "cell_type": "code",
   "execution_count": 26,
   "id": "87f68286-6628-4826-bc60-086ccc094f1a",
   "metadata": {},
   "outputs": [
    {
     "data": {
      "text/plain": [
       "'My na'"
      ]
     },
     "execution_count": 26,
     "metadata": {},
     "output_type": "execute_result"
    }
   ],
   "source": [
    "f.read(5)"
   ]
  },
  {
   "cell_type": "code",
   "execution_count": 17,
   "id": "20ec54e6-5927-4e40-a560-ea078db8abad",
   "metadata": {},
   "outputs": [
    {
     "data": {
      "text/plain": [
       "True"
      ]
     },
     "execution_count": 17,
     "metadata": {},
     "output_type": "execute_result"
    }
   ],
   "source": [
    "f.readable()"
   ]
  },
  {
   "cell_type": "code",
   "execution_count": 22,
   "id": "b357ae01-3a7f-4712-9a36-6236245671ee",
   "metadata": {},
   "outputs": [
    {
     "data": {
      "text/plain": [
       "'My name is sanika.\\n'"
      ]
     },
     "execution_count": 22,
     "metadata": {},
     "output_type": "execute_result"
    }
   ],
   "source": [
    "f.readline()"
   ]
  },
  {
   "cell_type": "code",
   "execution_count": 23,
   "id": "e379f921-9780-4a1d-9179-3038bf3f4947",
   "metadata": {},
   "outputs": [
    {
     "data": {
      "text/plain": [
       "['My father name is hanmant.\\n',\n",
       " 'My hobbies are reading,swimming,dancing,singing.\\n',\n",
       " 'I like travaling.\\n',\n",
       " 'thank you.']"
      ]
     },
     "execution_count": 23,
     "metadata": {},
     "output_type": "execute_result"
    }
   ],
   "source": [
    "f.readlines()"
   ]
  },
  {
   "cell_type": "code",
   "execution_count": 28,
   "id": "0d323c1f-433d-4a73-a24c-a8e4771db363",
   "metadata": {},
   "outputs": [
    {
     "data": {
      "text/plain": [
       "'My father '"
      ]
     },
     "execution_count": 28,
     "metadata": {},
     "output_type": "execute_result"
    }
   ],
   "source": [
    "f.readline(10)"
   ]
  },
  {
   "cell_type": "code",
   "execution_count": 29,
   "id": "e2e6b248-b398-4265-a50c-cbdf537637a7",
   "metadata": {},
   "outputs": [
    {
     "data": {
      "text/plain": [
       "['name is hanmant.\\n']"
      ]
     },
     "execution_count": 29,
     "metadata": {},
     "output_type": "execute_result"
    }
   ],
   "source": [
    "f.readlines(8)"
   ]
  },
  {
   "cell_type": "code",
   "execution_count": 21,
   "id": "c9d0f949-9336-4857-bfce-83cf492dfca6",
   "metadata": {},
   "outputs": [
    {
     "name": "stdout",
     "output_type": "stream",
     "text": [
      "1.My name is sanika.\n",
      "2.My father name is hanmant.\n",
      "3.My hobbies are reading,swimming,dancing,singing.\n",
      "4.I like travaling.\n",
      "5.thank you.\n"
     ]
    }
   ],
   "source": [
    "with open('sanika.txt','r')as f:\n",
    "    content=f.read()\n",
    "    print(content)"
   ]
  },
  {
   "cell_type": "code",
   "execution_count": 22,
   "id": "43876049-a07c-4669-80c1-1e35f7885b75",
   "metadata": {},
   "outputs": [
    {
     "name": "stdout",
     "output_type": "stream",
     "text": [
      "1.My \n"
     ]
    }
   ],
   "source": [
    "#printing 5 character\n",
    "with open('sanika.txt','r') as f:\n",
    "    content=f.read(5)\n",
    "    print(content)"
   ]
  },
  {
   "cell_type": "code",
   "execution_count": 24,
   "id": "57f3a168-f131-43a9-9bc2-4bbb505f846e",
   "metadata": {},
   "outputs": [
    {
     "name": "stdout",
     "output_type": "stream",
     "text": [
      "1.My name is sanika.\n",
      "2.My father name is hanmant.\n",
      "3.My hobbies are reading,swimming,dancing,singing.\n",
      "4.I like travaling.\n",
      "5.thank you."
     ]
    }
   ],
   "source": [
    "with open('sanika.txt','r') as f:\n",
    "    size=5\n",
    "    content=f.read(size)\n",
    "    while len(content)>0:\n",
    "        print(content,end='')\n",
    "        content=f.read(size)"
   ]
  },
  {
   "cell_type": "code",
   "execution_count": 25,
   "id": "21616c9d-ef44-4cbb-9924-c3d4d13329b9",
   "metadata": {},
   "outputs": [
    {
     "name": "stdout",
     "output_type": "stream",
     "text": [
      "1.My name is sanika.\n",
      "\n"
     ]
    }
   ],
   "source": [
    "# read first line\n",
    "with open('sanika.txt','r')as f:\n",
    "    content=f.readline()\n",
    "    print(content)"
   ]
  },
  {
   "cell_type": "code",
   "execution_count": 26,
   "id": "9fe5b5f1-dbaa-41fd-9cde-cd4b00943cc0",
   "metadata": {},
   "outputs": [
    {
     "name": "stdout",
     "output_type": "stream",
     "text": [
      "1.My name is sanika.\n",
      " 2.My father name is hanmant.\n",
      "\n"
     ]
    }
   ],
   "source": [
    "# read another line\n",
    "with open('sanika.txt','r')as f:\n",
    "    content=f.readline()\n",
    "    print(content,end=' ')\n",
    "\n",
    "    content=f.readline()\n",
    "    print(content)"
   ]
  },
  {
   "cell_type": "code",
   "execution_count": 27,
   "id": "40d43832-f9ea-4934-9207-d6b44807bd1e",
   "metadata": {},
   "outputs": [
    {
     "name": "stdout",
     "output_type": "stream",
     "text": [
      "['1.My name is sanika.\\n', '2.My father name is hanmant.\\n', '3.My hobbies are reading,swimming,dancing,singing.\\n', '4.I like travaling.\\n', '5.thank you.']\n"
     ]
    }
   ],
   "source": [
    "#readlines \n",
    "with open('sanika.txt','r')as f:\n",
    "    content=f.readlines()\n",
    "    print(content)"
   ]
  },
  {
   "cell_type": "code",
   "execution_count": 28,
   "id": "fdc325b3-2a8c-4689-b3c5-f2b87c6cafb3",
   "metadata": {},
   "outputs": [
    {
     "name": "stdout",
     "output_type": "stream",
     "text": [
      "1.My name is sanika.\n",
      " 2.My father name is hanmant.\n",
      " 3.My hobbies are reading,swimming,dancing,singing.\n",
      " 4.I like travaling.\n",
      " 5.thank you. "
     ]
    }
   ],
   "source": [
    "# use loop\n",
    "with open('sanika.txt','r')as f:\n",
    "    for line in f:\n",
    "        print(line,end=' ')"
   ]
  },
  {
   "cell_type": "markdown",
   "id": "bc92efb9-ed22-4ab7-aec9-d7cda347c97d",
   "metadata": {},
   "source": [
    "## Example=counting 'the' in the file\n"
   ]
  },
  {
   "cell_type": "code",
   "execution_count": 31,
   "id": "249a6999-d70a-40ac-8e75-a02dc6324188",
   "metadata": {},
   "outputs": [
    {
     "name": "stdout",
     "output_type": "stream",
     "text": [
      "0\n"
     ]
    }
   ],
   "source": [
    "f=open('sanika.txt','r')\n",
    "data=f.read()\n",
    "words=data.split()\n",
    "print (words.count('the'))"
   ]
  },
  {
   "cell_type": "markdown",
   "id": "d30db09b-e989-48b5-88a7-1dabb6087e82",
   "metadata": {},
   "source": [
    "## closing a file"
   ]
  },
  {
   "cell_type": "markdown",
   "id": "1bf31afd-de8f-47ff-b1a3-1ae5ba86ae2c",
   "metadata": {},
   "source": [
    "#### 1.when we done with the operation to the file,we need to properly close the file\n",
    "#### 2.closing the file will free up the resources that were tied with the file and is done using close() method.\n",
    "#### 3.python has garbage collector,but we mst not rely on it to close the file"
   ]
  },
  {
   "cell_type": "code",
   "execution_count": 32,
   "id": "f5f869cc-8025-40cb-b62b-344b6263f076",
   "metadata": {},
   "outputs": [],
   "source": [
    "f.close()"
   ]
  },
  {
   "cell_type": "markdown",
   "id": "6a764b7e-9662-4817-8f19-0f6b7c7e4f16",
   "metadata": {},
   "source": [
    "## file using with statement(context manager)\n",
    "### 1.The with statement ensures that the file is closed when the block inside with is exicuted.\n",
    "### 2.we dont need to explicitly call the close()method.it is done internally.\n"
   ]
  },
  {
   "cell_type": "code",
   "execution_count": 1,
   "id": "34b1a294-11ca-4453-86c4-7bb39f5230b1",
   "metadata": {},
   "outputs": [],
   "source": [
    "#context manager 'with' automatically get closed after performing operation\n",
    "with open('sanika.txt','r')as f:\n",
    "    pass"
   ]
  },
  {
   "cell_type": "code",
   "execution_count": 2,
   "id": "1be2dd79-9a10-4ea5-bfc3-178465f29da2",
   "metadata": {},
   "outputs": [
    {
     "name": "stdout",
     "output_type": "stream",
     "text": [
      "True\n"
     ]
    }
   ],
   "source": [
    "print(f.closed)"
   ]
  },
  {
   "cell_type": "markdown",
   "id": "0179f9f3-ac62-4825-a75e-fa7259b548d9",
   "metadata": {},
   "source": [
    "## writing the file\n",
    "#### 1.in order to write a file in python,we need to open it in write 'w',append 'a' or exclusive creation 'x' mode.\n",
    "#### 2.we need to be careful with the 'w' mode as it will overwrite into the file if it is already exist.all previous data are errased.\n",
    "#### 3.writing a string or sequence of bytes are done using 'write' method.this method returns the number of characters written to the file."
   ]
  },
  {
   "cell_type": "code",
   "execution_count": 3,
   "id": "15e54391-4a8e-4155-80cb-c4ca4e55c1af",
   "metadata": {},
   "outputs": [],
   "source": [
    "with open('write1.txt','w') as w:\n",
    "    w.write('this is the file i am going to write')"
   ]
  },
  {
   "cell_type": "code",
   "execution_count": null,
   "id": "823ce675-50d2-4306-9e31-b9a0d2740f71",
   "metadata": {},
   "outputs": [],
   "source": [
    "## file writing methods\n",
    "### 1.writable()=\n",
    "#### -returns true if the file stream can be wrirren to.\n",
    "### 2.write(str)=\n",
    "#### -write string to the file.\n",
    "### 3.writelines(lines)=\n",
    "#### -write a list of lines to the file."
   ]
  },
  {
   "cell_type": "code",
   "execution_count": null,
   "id": "a5df7c4f-bb62-47ac-85da-ad40afc6fb6c",
   "metadata": {},
   "outputs": [],
   "source": [
    "## Example=sample file copy operation."
   ]
  },
  {
   "cell_type": "code",
   "execution_count": 8,
   "id": "ec60c9dd-5f14-4f92-a6db-e0849356f8a4",
   "metadata": {},
   "outputs": [],
   "source": [
    "with open('sanika.txt','r')as f:\n",
    "    with open('sanika_copy.txt','w')as w:\n",
    "        data=f.read()\n",
    "        w.write(data)"
   ]
  },
  {
   "cell_type": "markdown",
   "id": "b7ba7218-78cd-4a5e-8572-eae7822156dd",
   "metadata": {},
   "source": [
    "## Example =read the given file and copy only the numbers from it into another file.perform the number filtering operation do not change the line.\n"
   ]
  },
  {
   "cell_type": "code",
   "execution_count": 9,
   "id": "6a1876a2-e282-490e-a6ef-b3f272aaa821",
   "metadata": {},
   "outputs": [],
   "source": [
    "with open('sanika.txt','r')as f:\n",
    "    with open('numbers_only.txt','w')as w:\n",
    "        data=f.readlines()\n",
    "        for n in data:\n",
    "            n=n.split()\n",
    "            for i in n:\n",
    "                if i.isdigit():\n",
    "                    w.write(i,' ')\n",
    "                    w.write('\\n')"
   ]
  },
  {
   "cell_type": "markdown",
   "id": "7b53c692-6feb-4b2f-911d-36bf9a2733ff",
   "metadata": {},
   "source": [
    "## file position(seek()function and tell()function\n",
    "### -1.we can change our current file cursor (position)using seek() method.\n",
    "### -2similarly,tell() method returns our current position (in number of bytes)."
   ]
  },
  {
   "cell_type": "code",
   "execution_count": 16,
   "id": "4aac9cbf-3f25-4eb6-84ef-fbade1ea3d3e",
   "metadata": {},
   "outputs": [
    {
     "name": "stdout",
     "output_type": "stream",
     "text": [
      "1.My  1.My \n",
      "5\n"
     ]
    }
   ],
   "source": [
    "with open('sanika.txt','r')as f:\n",
    "    content=f.read(5)\n",
    "    print(content,end=' ')\n",
    "    f.seek(0)\n",
    "    content=f.read(5)\n",
    "    print(content)\n",
    "    print(f.tell())"
   ]
  },
  {
   "cell_type": "markdown",
   "id": "b4f29535-a0ae-42c9-ab60-a5ae48e73679",
   "metadata": {},
   "source": [
    "## some methods\n",
    "### 1.cheak files"
   ]
  },
  {
   "cell_type": "code",
   "execution_count": 18,
   "id": "4028d8c4-b76e-4659-91d6-acf487c1f915",
   "metadata": {},
   "outputs": [
    {
     "name": "stdout",
     "output_type": "stream",
     "text": [
      "sanika.txt\n"
     ]
    }
   ],
   "source": [
    "print(f.name)"
   ]
  },
  {
   "cell_type": "markdown",
   "id": "e6cd2ef1-09f5-45a4-82c9-fbd5997b6728",
   "metadata": {},
   "source": [
    "### 2.cheak mode"
   ]
  },
  {
   "cell_type": "code",
   "execution_count": 19,
   "id": "96b33739-e2fe-4cb9-82ff-42e53877cbcb",
   "metadata": {},
   "outputs": [
    {
     "name": "stdout",
     "output_type": "stream",
     "text": [
      "r\n"
     ]
    }
   ],
   "source": [
    "print(f.mode)"
   ]
  },
  {
   "cell_type": "markdown",
   "id": "a10aaa4e-6dd4-4b14-8cd8-4730cd23e638",
   "metadata": {},
   "source": [
    "### 3.cheak file closed or not"
   ]
  },
  {
   "cell_type": "code",
   "execution_count": 20,
   "id": "96b2da38-95be-4884-83dd-34dd7162c1b2",
   "metadata": {},
   "outputs": [
    {
     "name": "stdout",
     "output_type": "stream",
     "text": [
      "True\n"
     ]
    }
   ],
   "source": [
    "print(f.closed)"
   ]
  },
  {
   "cell_type": "code",
   "execution_count": 7,
   "id": "0e997cfc-0db9-4cac-b2ea-78f8dacad02b",
   "metadata": {},
   "outputs": [],
   "source": [
    "# close file\n",
    "f.close()"
   ]
  },
  {
   "cell_type": "code",
   "execution_count": 8,
   "id": "8d3b6bc0-c5b1-444d-a6c8-d8e1b1a64b45",
   "metadata": {},
   "outputs": [
    {
     "name": "stdout",
     "output_type": "stream",
     "text": [
      "True\n"
     ]
    }
   ],
   "source": [
    "print(f.closed)"
   ]
  },
  {
   "cell_type": "code",
   "execution_count": 9,
   "id": "3f65b4cc-7a30-4b74-b222-c671a995c661",
   "metadata": {},
   "outputs": [
    {
     "data": {
      "text/plain": [
       "<_io.TextIOWrapper name='sanika.txt' mode='r' encoding='cp1252'>"
      ]
     },
     "execution_count": 9,
     "metadata": {},
     "output_type": "execute_result"
    }
   ],
   "source": [
    "# we can access the file\n",
    "f"
   ]
  }
 ],
 "metadata": {
  "kernelspec": {
   "display_name": "Python 3 (ipykernel)",
   "language": "python",
   "name": "python3"
  },
  "language_info": {
   "codemirror_mode": {
    "name": "ipython",
    "version": 3
   },
   "file_extension": ".py",
   "mimetype": "text/x-python",
   "name": "python",
   "nbconvert_exporter": "python",
   "pygments_lexer": "ipython3",
   "version": "3.11.7"
  }
 },
 "nbformat": 4,
 "nbformat_minor": 5
}
